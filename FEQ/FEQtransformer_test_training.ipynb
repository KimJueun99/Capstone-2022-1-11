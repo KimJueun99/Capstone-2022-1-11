{
 "cells": [
  {
   "cell_type": "code",
   "execution_count": null,
   "id": "7ca0a0ee-e599-4c8e-9e62-5a7f95247798",
   "metadata": {
    "tags": []
   },
   "outputs": [],
   "source": [
    "from FEQtransformer.core.trainer import trainer\n",
    "trainer(input_hdf5='./data/new_chunks.hdf5',\n",
    "        input_csv='./data/new_chunks.csv',\n",
    "        output_name='FEQ_test_trainer', \n",
    "        cnn_blocks=2,\n",
    "        lstm_blocks=1,\n",
    "        padding='same',\n",
    "        activation='relu',\n",
    "        label_type='gaussian',\n",
    "        mode='generator',\n",
    "        train_valid_test_split=[0.8, 0.1, 0.1],\n",
    "        batch_size=20,\n",
    "        epochs=10, \n",
    "        patience=2\n",
    "       )"
   ]
  },
  {
   "cell_type": "code",
   "execution_count": null,
   "id": "973ae26e-3463-4b81-a454-048b837c77fc",
   "metadata": {
    "scrolled": true,
    "tags": []
   },
   "outputs": [],
   "source": [
    "from FEQtransformer.core.tester import tester\n",
    "tester(input_hdf5='./data/new_chunks.hdf5',\n",
    "       input_testset='./FEQ_test_trainer_outputs/test.npy',\n",
    "       input_model='./FEQ_test_trainer_outputs/final_model.h5',\n",
    "       output_name='./FEQ_test_tester',\n",
    "       detection_threshold=0.2,                \n",
    "       P_threshold=0.2,\n",
    "       S_threshold=0.1, \n",
    "       number_of_plots=3,\n",
    "       estimate_uncertainty=True, \n",
    "       number_of_sampling=2,\n",
    "       input_dimention=(6000, 3),\n",
    "       normalization_mode='std',\n",
    "       mode='generator',\n",
    "       batch_size=10,\n",
    "       gpuid=None,\n",
    "       gpu_limit=None)"
   ]
  }
 ],
 "metadata": {
  "kernelspec": {
   "display_name": "Python 3",
   "language": "python",
   "name": "python3"
  },
  "language_info": {
   "codemirror_mode": {
    "name": "ipython",
    "version": 3
   },
   "file_extension": ".py",
   "mimetype": "text/x-python",
   "name": "python",
   "nbconvert_exporter": "python",
   "pygments_lexer": "ipython3",
   "version": "3.8.10"
  }
 },
 "nbformat": 4,
 "nbformat_minor": 5
}
